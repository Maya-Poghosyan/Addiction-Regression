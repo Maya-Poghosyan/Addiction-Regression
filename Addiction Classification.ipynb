{
 "cells": [
  {
   "cell_type": "markdown",
   "id": "f58c74b7",
   "metadata": {},
   "source": [
    "# fMRI and Machine Learning for Addiction Diagnosis\n",
    "Using various machine learning algorithms to diagnose substance addiction from fMRI scans. <br>Dataset link: http://fcon_1000.projects.nitrc.org/indi/ACPI/html/acpi_nyu_1.html"
   ]
  },
  {
   "cell_type": "markdown",
   "id": "278ad947",
   "metadata": {},
   "source": [
    "**Part One:** Process fMRI data."
   ]
  },
  {
   "cell_type": "code",
   "execution_count": 1,
   "id": "f2a1f192",
   "metadata": {},
   "outputs": [
    {
     "name": "stderr",
     "output_type": "stream",
     "text": [
      "C:\\Users\\mayap\\Anaconda3\\lib\\site-packages\\nilearn\\datasets\\__init__.py:86: FutureWarning: Fetchers from the nilearn.datasets module will be updated in version 0.9 to return python strings instead of bytes and Pandas dataframes instead of Numpy arrays.\n",
      "  warn(\"Fetchers from the nilearn.datasets module will be \"\n"
     ]
    }
   ],
   "source": [
    "# Import libraries\n",
    "import nilearn\n",
    "import os\n",
    "import nibabel as nib\n",
    "from nilearn import image\n",
    "from nilearn import datasets\n",
    "import pandas as pd\n",
    "from nilearn import plotting\n",
    "from nilearn.connectome import ConnectivityMeasure\n",
    "import numpy as np\n",
    "import matplotlib.pyplot as plt\n",
    "from sklearn.neural_network import MLPClassifier\n",
    "from sklearn.metrics import accuracy_score"
   ]
  },
  {
   "cell_type": "code",
   "execution_count": 2,
   "id": "d671d977",
   "metadata": {},
   "outputs": [
    {
     "name": "stderr",
     "output_type": "stream",
     "text": [
      "C:\\Users\\mayap\\Anaconda3\\lib\\site-packages\\numpy\\lib\\npyio.py:2349: VisibleDeprecationWarning: Reading unicode strings without specifying the encoding argument is deprecated. Set the encoding, use None for the system default.\n",
      "  output = genfromtxt(fname, **kwargs)\n"
     ]
    }
   ],
   "source": [
    "# create probabilistic atlas\n",
    "atlas = datasets.fetch_atlas_msdl()\n",
    "atlas_filename = atlas['maps']\n",
    "labels = atlas['labels']\n",
    "from nilearn.input_data import NiftiMapsMasker\n",
    "masker = NiftiMapsMasker(maps_img=atlas_filename, standardize=True,\n",
    "                         memory='nilearn_cache', verbose=5)"
   ]
  },
  {
   "cell_type": "code",
   "execution_count": 3,
   "id": "6821ea93",
   "metadata": {},
   "outputs": [],
   "source": [
    "# function to convert fMRI scan to \n",
    "def fmri_to_mat(filepath):\n",
    "    # create adjacency matrix\n",
    "    data = nib.load(filepath)\n",
    "    masker = NiftiMapsMasker(maps_img=atlas_filename, standardize=True, memory='nilearn_cache', verbose=5)\n",
    "    time_series = masker.fit_transform(data)\n",
    "    correlation_measure = ConnectivityMeasure(kind='correlation')\n",
    "    correlation_matrix = correlation_measure.fit_transform([time_series])[0]\n",
    "    mat = np.matrix(correlation_matrix)\n",
    "    return mat"
   ]
  },
  {
   "cell_type": "code",
   "execution_count": null,
   "id": "1743d8d9",
   "metadata": {},
   "outputs": [],
   "source": [
    "cocaine_matrices = [] \n",
    "path = r\"C:\\Users\\mayap\\ACSEF 2022\\Data\"\n",
    "os.chdir(path)\n",
    "for file in os.listdir(path):\n",
    "    filename = os.fsdecode(file)\n",
    "    cocaine_matrices.append(fmri_to_mat(filename))"
   ]
  },
  {
   "cell_type": "code",
   "execution_count": null,
   "id": "7db1691d",
   "metadata": {},
   "outputs": [],
   "source": [
    "control_matrices = [] \n",
    "path = r\"C:\\Users\\mayap\\ACSEF 2022\\Data2\"\n",
    "os.chdir(path)\n",
    "for file in os.listdir(path):\n",
    "    filename = os.fsdecode(file)\n",
    "    control_matrices.append(fmri_to_mat(filename))"
   ]
  },
  {
   "cell_type": "code",
   "execution_count": 7,
   "id": "4c6f63a1",
   "metadata": {},
   "outputs": [],
   "source": [
    "input_data = cocaine_matrices + control_matrices\n",
    "labels = []\n",
    "for num in range(56):\n",
    "    labels.append(1)\n",
    "for num in range(47):\n",
    "    labels.append(0)"
   ]
  },
  {
   "cell_type": "code",
   "execution_count": 163,
   "id": "74842296",
   "metadata": {},
   "outputs": [
    {
     "data": {
      "image/png": "[encoded data removed]",
      "text/plain": [
       "<Figure size 432x288 with 2 Axes>"
      ]
     },
     "metadata": {
      "needs_background": "light"
     },
     "output_type": "display_data"
    }
   ],
   "source": [
    "# Visualize a connectivity matrix\n",
    "plt.set_cmap('hsv')\n",
    "plt.imshow(input_data[0])\n",
    "plt.colorbar()\n",
    "plt.savefig(r\"C:\\Users\\mayap\\ACSEF 2022\\matrix.png\")\n",
    "plt.show()"
   ]
  },
  {
   "cell_type": "code",
   "execution_count": 8,
   "id": "bc12dc85",
   "metadata": {},
   "outputs": [],
   "source": [
    "# shuffle data\n",
    "import random\n",
    "data = list(zip(input_data, labels))\n",
    "random.shuffle(data)\n",
    "input_data, labels = zip(*data)"
   ]
  },
  {
   "cell_type": "code",
   "execution_count": 143,
   "id": "d55fa1ec",
   "metadata": {},
   "outputs": [],
   "source": [
    "# train/test split -- 80/20 ratio\n",
    "xtrain = input_data[:82]\n",
    "ytrain = list(labels[:82])\n",
    "xtest = input_data[82:]\n",
    "ytest = list(labels[82:])"
   ]
  },
  {
   "cell_type": "code",
   "execution_count": 144,
   "id": "63c683a4",
   "metadata": {
    "scrolled": true
   },
   "outputs": [
    {
     "name": "stdout",
     "output_type": "stream",
     "text": [
      "(82, 1521)\n"
     ]
    }
   ],
   "source": [
    "# flatten each matrix and stack to create 2D input matrices\n",
    "train_array = xtrain[0].flatten()\n",
    "for item in xtrain[1:]:\n",
    "    item = item.flatten()\n",
    "    train_array = np.vstack((train_array, item))\n",
    "# print(x_train[0])\n",
    "test_array = xtest[0].flatten()\n",
    "for item in xtest[1:]:\n",
    "    item = item.flatten()\n",
    "    test_array = np.vstack((test_array, item))\n",
    "print(train_array.shape)"
   ]
  },
  {
   "cell_type": "code",
   "execution_count": 164,
   "id": "1f8ecd56",
   "metadata": {},
   "outputs": [
    {
     "data": {
      "text/html": [
       "<div>\n",
       "<style scoped>\n",
       "    .dataframe tbody tr th:only-of-type {\n",
       "        vertical-align: middle;\n",
       "    }\n",
       "\n",
       "    .dataframe tbody tr th {\n",
       "        vertical-align: top;\n",
       "    }\n",
       "\n",
       "    .dataframe thead th {\n",
       "        text-align: right;\n",
       "    }\n",
       "</style>\n",
       "<table border=\"1\" class=\"dataframe\">\n",
       "  <thead>\n",
       "    <tr style=\"text-align: right;\">\n",
       "      <th></th>\n",
       "      <th>0</th>\n",
       "      <th>1</th>\n",
       "      <th>2</th>\n",
       "      <th>3</th>\n",
       "      <th>4</th>\n",
       "      <th>5</th>\n",
       "      <th>6</th>\n",
       "      <th>7</th>\n",
       "      <th>8</th>\n",
       "      <th>9</th>\n",
       "      <th>...</th>\n",
       "      <th>1512</th>\n",
       "      <th>1513</th>\n",
       "      <th>1514</th>\n",
       "      <th>1515</th>\n",
       "      <th>1516</th>\n",
       "      <th>1517</th>\n",
       "      <th>1518</th>\n",
       "      <th>1519</th>\n",
       "      <th>1520</th>\n",
       "      <th>Label</th>\n",
       "    </tr>\n",
       "  </thead>\n",
       "  <tbody>\n",
       "    <tr>\n",
       "      <th>0</th>\n",
       "      <td>1.0</td>\n",
       "      <td>0.786501</td>\n",
       "      <td>0.677198</td>\n",
       "      <td>0.439709</td>\n",
       "      <td>0.496370</td>\n",
       "      <td>0.254489</td>\n",
       "      <td>0.390627</td>\n",
       "      <td>0.191283</td>\n",
       "      <td>0.714906</td>\n",
       "      <td>0.497016</td>\n",
       "      <td>...</td>\n",
       "      <td>0.174817</td>\n",
       "      <td>0.420234</td>\n",
       "      <td>0.447529</td>\n",
       "      <td>0.377330</td>\n",
       "      <td>0.150673</td>\n",
       "      <td>0.502203</td>\n",
       "      <td>0.246408</td>\n",
       "      <td>0.495943</td>\n",
       "      <td>1.0</td>\n",
       "      <td>1</td>\n",
       "    </tr>\n",
       "    <tr>\n",
       "      <th>1</th>\n",
       "      <td>1.0</td>\n",
       "      <td>0.827917</td>\n",
       "      <td>0.587555</td>\n",
       "      <td>0.500561</td>\n",
       "      <td>0.490929</td>\n",
       "      <td>0.131247</td>\n",
       "      <td>0.551486</td>\n",
       "      <td>0.456509</td>\n",
       "      <td>0.818154</td>\n",
       "      <td>0.107632</td>\n",
       "      <td>...</td>\n",
       "      <td>0.130054</td>\n",
       "      <td>0.257223</td>\n",
       "      <td>0.324194</td>\n",
       "      <td>0.271531</td>\n",
       "      <td>0.298920</td>\n",
       "      <td>0.330114</td>\n",
       "      <td>0.337357</td>\n",
       "      <td>0.634070</td>\n",
       "      <td>1.0</td>\n",
       "      <td>0</td>\n",
       "    </tr>\n",
       "    <tr>\n",
       "      <th>2</th>\n",
       "      <td>1.0</td>\n",
       "      <td>0.811054</td>\n",
       "      <td>0.637902</td>\n",
       "      <td>0.471006</td>\n",
       "      <td>0.643428</td>\n",
       "      <td>-0.221906</td>\n",
       "      <td>0.092366</td>\n",
       "      <td>0.633546</td>\n",
       "      <td>0.775126</td>\n",
       "      <td>0.442261</td>\n",
       "      <td>...</td>\n",
       "      <td>-0.249848</td>\n",
       "      <td>-0.108414</td>\n",
       "      <td>-0.309496</td>\n",
       "      <td>-0.207318</td>\n",
       "      <td>-0.269948</td>\n",
       "      <td>-0.078723</td>\n",
       "      <td>-0.203533</td>\n",
       "      <td>-0.173644</td>\n",
       "      <td>1.0</td>\n",
       "      <td>1</td>\n",
       "    </tr>\n",
       "    <tr>\n",
       "      <th>3</th>\n",
       "      <td>1.0</td>\n",
       "      <td>0.889251</td>\n",
       "      <td>0.765667</td>\n",
       "      <td>0.446490</td>\n",
       "      <td>0.631759</td>\n",
       "      <td>0.590747</td>\n",
       "      <td>0.428272</td>\n",
       "      <td>0.417469</td>\n",
       "      <td>0.834363</td>\n",
       "      <td>0.643253</td>\n",
       "      <td>...</td>\n",
       "      <td>0.320198</td>\n",
       "      <td>0.725862</td>\n",
       "      <td>0.692568</td>\n",
       "      <td>0.771089</td>\n",
       "      <td>0.667199</td>\n",
       "      <td>0.780083</td>\n",
       "      <td>0.644997</td>\n",
       "      <td>0.781264</td>\n",
       "      <td>1.0</td>\n",
       "      <td>0</td>\n",
       "    </tr>\n",
       "    <tr>\n",
       "      <th>4</th>\n",
       "      <td>1.0</td>\n",
       "      <td>0.482386</td>\n",
       "      <td>0.410157</td>\n",
       "      <td>0.413038</td>\n",
       "      <td>0.492561</td>\n",
       "      <td>0.300404</td>\n",
       "      <td>0.475965</td>\n",
       "      <td>0.030467</td>\n",
       "      <td>0.416407</td>\n",
       "      <td>0.656598</td>\n",
       "      <td>...</td>\n",
       "      <td>0.538464</td>\n",
       "      <td>0.043964</td>\n",
       "      <td>0.478359</td>\n",
       "      <td>0.244387</td>\n",
       "      <td>0.143131</td>\n",
       "      <td>0.286787</td>\n",
       "      <td>-0.012207</td>\n",
       "      <td>0.651094</td>\n",
       "      <td>1.0</td>\n",
       "      <td>1</td>\n",
       "    </tr>\n",
       "  </tbody>\n",
       "</table>\n",
       "<p>5 rows × 1522 columns</p>\n",
       "</div>"
      ],
      "text/plain": [
       "     0         1         2         3         4         5         6         7  \\\n",
       "0  1.0  0.786501  0.677198  0.439709  0.496370  0.254489  0.390627  0.191283   \n",
       "1  1.0  0.827917  0.587555  0.500561  0.490929  0.131247  0.551486  0.456509   \n",
       "2  1.0  0.811054  0.637902  0.471006  0.643428 -0.221906  0.092366  0.633546   \n",
       "3  1.0  0.889251  0.765667  0.446490  0.631759  0.590747  0.428272  0.417469   \n",
       "4  1.0  0.482386  0.410157  0.413038  0.492561  0.300404  0.475965  0.030467   \n",
       "\n",
       "          8         9  ...      1512      1513      1514      1515      1516  \\\n",
       "0  0.714906  0.497016  ...  0.174817  0.420234  0.447529  0.377330  0.150673   \n",
       "1  0.818154  0.107632  ...  0.130054  0.257223  0.324194  0.271531  0.298920   \n",
       "2  0.775126  0.442261  ... -0.249848 -0.108414 -0.309496 -0.207318 -0.269948   \n",
       "3  0.834363  0.643253  ...  0.320198  0.725862  0.692568  0.771089  0.667199   \n",
       "4  0.416407  0.656598  ...  0.538464  0.043964  0.478359  0.244387  0.143131   \n",
       "\n",
       "       1517      1518      1519  1520  Label  \n",
       "0  0.502203  0.246408  0.495943   1.0      1  \n",
       "1  0.330114  0.337357  0.634070   1.0      0  \n",
       "2 -0.078723 -0.203533 -0.173644   1.0      1  \n",
       "3  0.780083  0.644997  0.781264   1.0      0  \n",
       "4  0.286787 -0.012207  0.651094   1.0      1  \n",
       "\n",
       "[5 rows x 1522 columns]"
      ]
     },
     "execution_count": 164,
     "metadata": {},
     "output_type": "execute_result"
    }
   ],
   "source": [
    "# create training, testing, and full dataframe and add labels\n",
    "train_df = pd.DataFrame(train_array)\n",
    "train_df['Label'] = ytrain\n",
    "test_df = pd.DataFrame(test_array)\n",
    "test_df['Label'] = ytest\n",
    "df = pd.concat([train_df,test_df])\n",
    "df.head()"
   ]
  },
  {
   "cell_type": "code",
   "execution_count": 136,
   "id": "96f2a243",
   "metadata": {},
   "outputs": [],
   "source": [
    "# create training and testing variables\n",
    "x_train = train_df.loc[:, train_df.columns != 'Label']\n",
    "y_train = train_df['Label']\n",
    "x_test = test_df.loc[:, test_df.columns != 'Label']\n",
    "y_test = test_df['Label'].values.squeeze() # what does squeeze mean"
   ]
  },
  {
   "cell_type": "markdown",
   "id": "8ba2068e",
   "metadata": {},
   "source": [
    "# Machine Learning"
   ]
  },
  {
   "cell_type": "markdown",
   "id": "de8ddadd",
   "metadata": {},
   "source": [
    "Logistic Regression"
   ]
  },
  {
   "cell_type": "code",
   "execution_count": 169,
   "id": "c12953db",
   "metadata": {},
   "outputs": [
    {
     "name": "stdout",
     "output_type": "stream",
     "text": [
      "0.8095238095238095\n"
     ]
    },
    {
     "name": "stderr",
     "output_type": "stream",
     "text": [
      "C:\\Users\\mayap\\Anaconda3\\lib\\site-packages\\sklearn\\linear_model\\_logistic.py:763: ConvergenceWarning: lbfgs failed to converge (status=1):\n",
      "STOP: TOTAL NO. of ITERATIONS REACHED LIMIT.\n",
      "\n",
      "Increase the number of iterations (max_iter) or scale the data as shown in:\n",
      "    https://scikit-learn.org/stable/modules/preprocessing.html\n",
      "Please also refer to the documentation for alternative solver options:\n",
      "    https://scikit-learn.org/stable/modules/linear_model.html#logistic-regression\n",
      "  n_iter_i = _check_optimize_result(\n"
     ]
    }
   ],
   "source": [
    "from sklearn import linear_model\n",
    "from sklearn.metrics import accuracy_score\n",
    "import seaborn as sns\n",
    "class_rm = linear_model.LogisticRegression()\n",
    "class_rm.fit(x_train,y_train)\n",
    "y_pred = class_rm.predict(x_test)\n",
    "y_pred = y_pred.squeeze()\n",
    "y_prob = class_rm.predict_proba(x_test)\n",
    "accuracy = accuracy_score(y_test, y_pred)\n",
    "print(accuracy)"
   ]
  },
  {
   "cell_type": "markdown",
   "id": "40cf21d6",
   "metadata": {},
   "source": [
    "Bagging Method (my lucky charm)"
   ]
  },
  {
   "cell_type": "code",
   "execution_count": 104,
   "id": "c8b5a5cf",
   "metadata": {},
   "outputs": [
    {
     "name": "stderr",
     "output_type": "stream",
     "text": [
      "C:\\Users\\mayap\\Anaconda3\\lib\\site-packages\\sklearn\\utils\\validation.py:70: FutureWarning: Pass shuffle=True, random_state=1 as keyword args. From version 1.0 (renaming of 0.25) passing these as positional arguments will result in an error\n",
      "  warnings.warn(f\"Pass {args_msg} as keyword args. From version \"\n"
     ]
    }
   ],
   "source": [
    "from sklearn.model_selection import KFold\n",
    "kfold = KFold(3, True, 1)"
   ]
  },
  {
   "cell_type": "code",
   "execution_count": 114,
   "id": "d686493e",
   "metadata": {},
   "outputs": [
    {
     "name": "stdout",
     "output_type": "stream",
     "text": [
      "Our accuracy scores:\n",
      " 0.8095238095238095\n"
     ]
    }
   ],
   "source": [
    "from sklearn.ensemble import BaggingClassifier\n",
    "from sklearn.svm import SVC\n",
    "bagging = BaggingClassifier(base_estimator=SVC(), n_estimators=10, random_state=0)\n",
    "x_train = train_df.loc[:, train_df.columns != 'Label']\n",
    "y_train = train_df['Label']\n",
    "x_test = test_df.loc[:, test_df.columns != 'Label']\n",
    "y_test = test_df['Label'].values.squeeze()\n",
    "bagging.fit(x_train,y_train)\n",
    "pred_values = bagging.predict(x_test) \n",
    "acc = accuracy_score(y_test , y_pred)\n",
    "print(\"Our accuracy scores:\\n\",acc)"
   ]
  },
  {
   "cell_type": "code",
   "execution_count": 110,
   "id": "748a2562",
   "metadata": {},
   "outputs": [
    {
     "name": "stdout",
     "output_type": "stream",
     "text": [
      "0.8095238095238095\n"
     ]
    }
   ],
   "source": [
    "from sklearn import svm\n",
    "clf = svm.SVC()\n",
    "clf.fit(x_train,y_train)\n",
    "clfp = clf.predict(x_test)\n",
    "print(accuracy_score(y_test,y_pred))"
   ]
  },
  {
   "cell_type": "markdown",
   "id": "f51607ea",
   "metadata": {},
   "source": [
    "Naive - Bayes classifier"
   ]
  },
  {
   "cell_type": "code",
   "execution_count": 133,
   "id": "ad9c1d9a",
   "metadata": {},
   "outputs": [
    {
     "name": "stdout",
     "output_type": "stream",
     "text": [
      "0.6190476190476191\n"
     ]
    }
   ],
   "source": [
    "X = df.loc[:, df.columns != 'Label']\n",
    "y = df['Label']\n",
    "from sklearn.model_selection import train_test_split\n",
    "X_train, X_test, Y_train, Y_test = train_test_split(X, y, test_size = 0.20, random_state = 0)\n",
    "from sklearn.preprocessing import StandardScaler\n",
    "sc = StandardScaler()\n",
    "x_train = sc.fit_transform(X_train)\n",
    "x_train = sc.transform(X_test)\n",
    "from sklearn.naive_bayes import GaussianNB\n",
    "classifier = GaussianNB()\n",
    "classifier.fit(X_train, Y_train)\n",
    "Y_pred  =  classifier.predict(X_test)\n",
    "print(accuracy_score(Y_test,Y_pred))"
   ]
  },
  {
   "cell_type": "markdown",
   "id": "24a5529f",
   "metadata": {},
   "source": [
    "# Deep Learning"
   ]
  },
  {
   "cell_type": "code",
   "execution_count": 141,
   "id": "0248e4f4",
   "metadata": {},
   "outputs": [
    {
     "name": "stdout",
     "output_type": "stream",
     "text": [
      "MLP Testing Set Score:\n",
      "76.19047619047619\n"
     ]
    }
   ],
   "source": [
    "nnet = MLPClassifier(hidden_layer_sizes=(10), max_iter= 1000)  \n",
    "nnet.fit(train_array, y_train)\n",
    "predictions = nnet.predict(test_array)\n",
    "print(\"MLP Testing Set Score:\")\n",
    "print(accuracy_score(y_test, predictions)*100)"
   ]
  }
 ],
 "metadata": {
  "kernelspec": {
   "display_name": "Python 3",
   "language": "python",
   "name": "python3"
  },
  "language_info": {
   "codemirror_mode": {
    "name": "ipython",
    "version": 3
   },
   "file_extension": ".py",
   "mimetype": "text/x-python",
   "name": "python",
   "nbconvert_exporter": "python",
   "pygments_lexer": "ipython3",
   "version": "3.8.8"
  }
 },
 "nbformat": 4,
 "nbformat_minor": 5
}
