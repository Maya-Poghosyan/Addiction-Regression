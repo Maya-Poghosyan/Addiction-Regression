{
 "cells": [
  {
   "cell_type": "markdown",
   "id": "f58c74b7",
   "metadata": {},
   "source": [
    "# fMRI and Machine Learning for Addiction Diagnosis\n",
    "Using various machine learning algorithms to diagnose substance addiction from fMRI scans. <br>Dataset link: http://fcon_1000.projects.nitrc.org/indi/ACPI/html/acpi_nyu_1.html"
   ]
  },
  {
   "cell_type": "code",
   "execution_count": 1,
   "id": "f2a1f192",
   "metadata": {},
   "outputs": [
    {
     "name": "stderr",
     "output_type": "stream",
     "text": [
      "C:\\Users\\mayap\\Anaconda3\\lib\\site-packages\\nilearn\\datasets\\__init__.py:86: FutureWarning: Fetchers from the nilearn.datasets module will be updated in version 0.9 to return python strings instead of bytes and Pandas dataframes instead of Numpy arrays.\n",
      "  warn(\"Fetchers from the nilearn.datasets module will be \"\n"
     ]
    }
   ],
   "source": [
    "import nilearn\n",
    "import os\n",
    "import nibabel as nib\n",
    "from nilearn import image\n",
    "from nilearn import datasets\n",
    "import pandas as pd\n",
    "from nilearn import plotting\n",
    "from nilearn.connectome import ConnectivityMeasure\n",
    "import numpy as np\n",
    "import matplotlib.pyplot as plt\n",
    "import matplotlib.pyplot as plt\n",
    "from sklearn.neural_network import MLPClassifier\n",
    "from sklearn.metrics import accuracy_score"
   ]
  },
  {
   "cell_type": "code",
   "execution_count": 2,
   "id": "d671d977",
   "metadata": {},
   "outputs": [
    {
     "name": "stderr",
     "output_type": "stream",
     "text": [
      "C:\\Users\\mayap\\Anaconda3\\lib\\site-packages\\numpy\\lib\\npyio.py:2349: VisibleDeprecationWarning: Reading unicode strings without specifying the encoding argument is deprecated. Set the encoding, use None for the system default.\n",
      "  output = genfromtxt(fname, **kwargs)\n"
     ]
    }
   ],
   "source": [
    "atlas = datasets.fetch_atlas_msdl()\n",
    "atlas_filename = atlas['maps']\n",
    "labels = atlas['labels']\n",
    "from nilearn.input_data import NiftiMapsMasker\n",
    "masker = NiftiMapsMasker(maps_img=atlas_filename, standardize=True,\n",
    "                         memory='nilearn_cache', verbose=5)"
   ]
  },
  {
   "cell_type": "code",
   "execution_count": 3,
   "id": "6821ea93",
   "metadata": {},
   "outputs": [],
   "source": [
    "def fmri_to_mat(filepath):\n",
    "    # create adjacency matrix\n",
    "    data = nib.load(filepath)\n",
    "    masker = NiftiMapsMasker(maps_img=atlas_filename, standardize=True, memory='nilearn_cache', verbose=5)\n",
    "    time_series = masker.fit_transform(data)\n",
    "    correlation_measure = ConnectivityMeasure(kind='correlation')\n",
    "    correlation_matrix = correlation_measure.fit_transform([time_series])[0]\n",
    "    mat = np.matrix(correlation_matrix)\n",
    "    return mat"
   ]
  },
  {
   "cell_type": "code",
   "execution_count": null,
   "id": "1743d8d9",
   "metadata": {},
   "outputs": [],
   "source": [
    "cocaine_matrices = [] \n",
    "path = r\"C:\\Users\\mayap\\ACSEF 2022\\Data\"\n",
    "os.chdir(path)\n",
    "for file in os.listdir(path):\n",
    "    filename = os.fsdecode(file)\n",
    "    cocaine_matrices.append(fmri_to_mat(filename))"
   ]
  },
  {
   "cell_type": "code",
   "execution_count": null,
   "id": "7db1691d",
   "metadata": {},
   "outputs": [],
   "source": [
    "control_matrices = [] \n",
    "path = r\"C:\\Users\\mayap\\ACSEF 2022\\Data2\"\n",
    "os.chdir(path)\n",
    "for file in os.listdir(path):\n",
    "    filename = os.fsdecode(file)\n",
    "    control_matrices.append(fmri_to_mat(filename))"
   ]
  },
  {
   "cell_type": "code",
   "execution_count": 7,
   "id": "4c6f63a1",
   "metadata": {},
   "outputs": [],
   "source": [
    "input_data = cocaine_matrices + control_matrices\n",
    "labels = []\n",
    "for num in range(56):\n",
    "    labels.append(1)\n",
    "for num in range(47):\n",
    "    labels.append(0)"
   ]
  },
  {
   "cell_type": "code",
   "execution_count": 8,
   "id": "bc12dc85",
   "metadata": {},
   "outputs": [],
   "source": [
    "# shuffle data\n",
    "import random\n",
    "data = list(zip(input_data, labels))\n",
    "random.shuffle(data)\n",
    "input_data, labels = zip(*data)"
   ]
  },
  {
   "cell_type": "code",
   "execution_count": 125,
   "id": "27d04bae",
   "metadata": {},
   "outputs": [],
   "source": [
    "x_train = input_data[:82]\n",
    "y_train = list(labels[:82])\n",
    "x_test = input_data[82:]\n",
    "y_test = list(labels[82:])"
   ]
  },
  {
   "cell_type": "code",
   "execution_count": 126,
   "id": "c8b03691",
   "metadata": {
    "scrolled": true
   },
   "outputs": [
    {
     "name": "stdout",
     "output_type": "stream",
     "text": [
      "(82, 1521)\n"
     ]
    }
   ],
   "source": [
    "train_array = x_train[0].flatten()\n",
    "for item in x_train[1:]:\n",
    "    item = item.flatten()\n",
    "    train_array = np.vstack((train_array, item))\n",
    "# print(x_train[0])\n",
    "test_array = x_test[0].flatten()\n",
    "for item in x_test[1:]:\n",
    "    item = item.flatten()\n",
    "    test_array = np.vstack((test_array, item))\n",
    "print(train_array.shape)"
   ]
  },
  {
   "cell_type": "code",
   "execution_count": 127,
   "id": "86caf630",
   "metadata": {},
   "outputs": [
    {
     "data": {
      "text/html": [
       "<div>\n",
       "<style scoped>\n",
       "    .dataframe tbody tr th:only-of-type {\n",
       "        vertical-align: middle;\n",
       "    }\n",
       "\n",
       "    .dataframe tbody tr th {\n",
       "        vertical-align: top;\n",
       "    }\n",
       "\n",
       "    .dataframe thead th {\n",
       "        text-align: right;\n",
       "    }\n",
       "</style>\n",
       "<table border=\"1\" class=\"dataframe\">\n",
       "  <thead>\n",
       "    <tr style=\"text-align: right;\">\n",
       "      <th></th>\n",
       "      <th>0</th>\n",
       "      <th>1</th>\n",
       "      <th>2</th>\n",
       "      <th>3</th>\n",
       "      <th>4</th>\n",
       "      <th>5</th>\n",
       "      <th>6</th>\n",
       "      <th>7</th>\n",
       "      <th>8</th>\n",
       "      <th>9</th>\n",
       "      <th>...</th>\n",
       "      <th>1512</th>\n",
       "      <th>1513</th>\n",
       "      <th>1514</th>\n",
       "      <th>1515</th>\n",
       "      <th>1516</th>\n",
       "      <th>1517</th>\n",
       "      <th>1518</th>\n",
       "      <th>1519</th>\n",
       "      <th>1520</th>\n",
       "      <th>Label</th>\n",
       "    </tr>\n",
       "  </thead>\n",
       "  <tbody>\n",
       "    <tr>\n",
       "      <th>0</th>\n",
       "      <td>1.0</td>\n",
       "      <td>0.786501</td>\n",
       "      <td>0.677198</td>\n",
       "      <td>0.439709</td>\n",
       "      <td>0.496370</td>\n",
       "      <td>0.254489</td>\n",
       "      <td>0.390627</td>\n",
       "      <td>0.191283</td>\n",
       "      <td>0.714906</td>\n",
       "      <td>0.497016</td>\n",
       "      <td>...</td>\n",
       "      <td>0.174817</td>\n",
       "      <td>0.420234</td>\n",
       "      <td>0.447529</td>\n",
       "      <td>0.377330</td>\n",
       "      <td>0.150673</td>\n",
       "      <td>0.502203</td>\n",
       "      <td>0.246408</td>\n",
       "      <td>0.495943</td>\n",
       "      <td>1.0</td>\n",
       "      <td>1</td>\n",
       "    </tr>\n",
       "    <tr>\n",
       "      <th>1</th>\n",
       "      <td>1.0</td>\n",
       "      <td>0.827917</td>\n",
       "      <td>0.587555</td>\n",
       "      <td>0.500561</td>\n",
       "      <td>0.490929</td>\n",
       "      <td>0.131247</td>\n",
       "      <td>0.551486</td>\n",
       "      <td>0.456509</td>\n",
       "      <td>0.818154</td>\n",
       "      <td>0.107632</td>\n",
       "      <td>...</td>\n",
       "      <td>0.130054</td>\n",
       "      <td>0.257223</td>\n",
       "      <td>0.324194</td>\n",
       "      <td>0.271531</td>\n",
       "      <td>0.298920</td>\n",
       "      <td>0.330114</td>\n",
       "      <td>0.337357</td>\n",
       "      <td>0.634070</td>\n",
       "      <td>1.0</td>\n",
       "      <td>0</td>\n",
       "    </tr>\n",
       "    <tr>\n",
       "      <th>2</th>\n",
       "      <td>1.0</td>\n",
       "      <td>0.811054</td>\n",
       "      <td>0.637902</td>\n",
       "      <td>0.471006</td>\n",
       "      <td>0.643428</td>\n",
       "      <td>-0.221906</td>\n",
       "      <td>0.092366</td>\n",
       "      <td>0.633546</td>\n",
       "      <td>0.775126</td>\n",
       "      <td>0.442261</td>\n",
       "      <td>...</td>\n",
       "      <td>-0.249848</td>\n",
       "      <td>-0.108414</td>\n",
       "      <td>-0.309496</td>\n",
       "      <td>-0.207318</td>\n",
       "      <td>-0.269948</td>\n",
       "      <td>-0.078723</td>\n",
       "      <td>-0.203533</td>\n",
       "      <td>-0.173644</td>\n",
       "      <td>1.0</td>\n",
       "      <td>1</td>\n",
       "    </tr>\n",
       "    <tr>\n",
       "      <th>3</th>\n",
       "      <td>1.0</td>\n",
       "      <td>0.889251</td>\n",
       "      <td>0.765667</td>\n",
       "      <td>0.446490</td>\n",
       "      <td>0.631759</td>\n",
       "      <td>0.590747</td>\n",
       "      <td>0.428272</td>\n",
       "      <td>0.417469</td>\n",
       "      <td>0.834363</td>\n",
       "      <td>0.643253</td>\n",
       "      <td>...</td>\n",
       "      <td>0.320198</td>\n",
       "      <td>0.725862</td>\n",
       "      <td>0.692568</td>\n",
       "      <td>0.771089</td>\n",
       "      <td>0.667199</td>\n",
       "      <td>0.780083</td>\n",
       "      <td>0.644997</td>\n",
       "      <td>0.781264</td>\n",
       "      <td>1.0</td>\n",
       "      <td>0</td>\n",
       "    </tr>\n",
       "    <tr>\n",
       "      <th>4</th>\n",
       "      <td>1.0</td>\n",
       "      <td>0.482386</td>\n",
       "      <td>0.410157</td>\n",
       "      <td>0.413038</td>\n",
       "      <td>0.492561</td>\n",
       "      <td>0.300404</td>\n",
       "      <td>0.475965</td>\n",
       "      <td>0.030467</td>\n",
       "      <td>0.416407</td>\n",
       "      <td>0.656598</td>\n",
       "      <td>...</td>\n",
       "      <td>0.538464</td>\n",
       "      <td>0.043964</td>\n",
       "      <td>0.478359</td>\n",
       "      <td>0.244387</td>\n",
       "      <td>0.143131</td>\n",
       "      <td>0.286787</td>\n",
       "      <td>-0.012207</td>\n",
       "      <td>0.651094</td>\n",
       "      <td>1.0</td>\n",
       "      <td>1</td>\n",
       "    </tr>\n",
       "  </tbody>\n",
       "</table>\n",
       "<p>5 rows × 1522 columns</p>\n",
       "</div>"
      ],
      "text/plain": [
       "     0         1         2         3         4         5         6         7  \\\n",
       "0  1.0  0.786501  0.677198  0.439709  0.496370  0.254489  0.390627  0.191283   \n",
       "1  1.0  0.827917  0.587555  0.500561  0.490929  0.131247  0.551486  0.456509   \n",
       "2  1.0  0.811054  0.637902  0.471006  0.643428 -0.221906  0.092366  0.633546   \n",
       "3  1.0  0.889251  0.765667  0.446490  0.631759  0.590747  0.428272  0.417469   \n",
       "4  1.0  0.482386  0.410157  0.413038  0.492561  0.300404  0.475965  0.030467   \n",
       "\n",
       "          8         9  ...      1512      1513      1514      1515      1516  \\\n",
       "0  0.714906  0.497016  ...  0.174817  0.420234  0.447529  0.377330  0.150673   \n",
       "1  0.818154  0.107632  ...  0.130054  0.257223  0.324194  0.271531  0.298920   \n",
       "2  0.775126  0.442261  ... -0.249848 -0.108414 -0.309496 -0.207318 -0.269948   \n",
       "3  0.834363  0.643253  ...  0.320198  0.725862  0.692568  0.771089  0.667199   \n",
       "4  0.416407  0.656598  ...  0.538464  0.043964  0.478359  0.244387  0.143131   \n",
       "\n",
       "       1517      1518      1519  1520  Label  \n",
       "0  0.502203  0.246408  0.495943   1.0      1  \n",
       "1  0.330114  0.337357  0.634070   1.0      0  \n",
       "2 -0.078723 -0.203533 -0.173644   1.0      1  \n",
       "3  0.780083  0.644997  0.781264   1.0      0  \n",
       "4  0.286787 -0.012207  0.651094   1.0      1  \n",
       "\n",
       "[5 rows x 1522 columns]"
      ]
     },
     "execution_count": 127,
     "metadata": {},
     "output_type": "execute_result"
    }
   ],
   "source": [
    "train_df = pd.DataFrame(train_array)\n",
    "train_df['Label'] = y_train\n",
    "train_df.head()"
   ]
  },
  {
   "cell_type": "code",
   "execution_count": 128,
   "id": "17f4c1b4",
   "metadata": {},
   "outputs": [
    {
     "data": {
      "text/html": [
       "<div>\n",
       "<style scoped>\n",
       "    .dataframe tbody tr th:only-of-type {\n",
       "        vertical-align: middle;\n",
       "    }\n",
       "\n",
       "    .dataframe tbody tr th {\n",
       "        vertical-align: top;\n",
       "    }\n",
       "\n",
       "    .dataframe thead th {\n",
       "        text-align: right;\n",
       "    }\n",
       "</style>\n",
       "<table border=\"1\" class=\"dataframe\">\n",
       "  <thead>\n",
       "    <tr style=\"text-align: right;\">\n",
       "      <th></th>\n",
       "      <th>0</th>\n",
       "      <th>1</th>\n",
       "      <th>2</th>\n",
       "      <th>3</th>\n",
       "      <th>4</th>\n",
       "      <th>5</th>\n",
       "      <th>6</th>\n",
       "      <th>7</th>\n",
       "      <th>8</th>\n",
       "      <th>9</th>\n",
       "      <th>...</th>\n",
       "      <th>1512</th>\n",
       "      <th>1513</th>\n",
       "      <th>1514</th>\n",
       "      <th>1515</th>\n",
       "      <th>1516</th>\n",
       "      <th>1517</th>\n",
       "      <th>1518</th>\n",
       "      <th>1519</th>\n",
       "      <th>1520</th>\n",
       "      <th>Label</th>\n",
       "    </tr>\n",
       "  </thead>\n",
       "  <tbody>\n",
       "    <tr>\n",
       "      <th>0</th>\n",
       "      <td>1.0</td>\n",
       "      <td>0.831051</td>\n",
       "      <td>0.641890</td>\n",
       "      <td>-0.032333</td>\n",
       "      <td>0.419112</td>\n",
       "      <td>-0.073279</td>\n",
       "      <td>0.604400</td>\n",
       "      <td>-0.170635</td>\n",
       "      <td>0.866467</td>\n",
       "      <td>-0.296679</td>\n",
       "      <td>...</td>\n",
       "      <td>-0.030051</td>\n",
       "      <td>0.480397</td>\n",
       "      <td>0.540591</td>\n",
       "      <td>0.473869</td>\n",
       "      <td>0.326452</td>\n",
       "      <td>0.447993</td>\n",
       "      <td>0.339875</td>\n",
       "      <td>0.707758</td>\n",
       "      <td>1.0</td>\n",
       "      <td>1</td>\n",
       "    </tr>\n",
       "    <tr>\n",
       "      <th>1</th>\n",
       "      <td>1.0</td>\n",
       "      <td>0.896050</td>\n",
       "      <td>0.616863</td>\n",
       "      <td>0.453676</td>\n",
       "      <td>0.543155</td>\n",
       "      <td>0.368622</td>\n",
       "      <td>0.341350</td>\n",
       "      <td>0.478277</td>\n",
       "      <td>0.816250</td>\n",
       "      <td>0.461366</td>\n",
       "      <td>...</td>\n",
       "      <td>0.273136</td>\n",
       "      <td>0.200162</td>\n",
       "      <td>0.564143</td>\n",
       "      <td>0.485326</td>\n",
       "      <td>0.542021</td>\n",
       "      <td>0.535232</td>\n",
       "      <td>0.581298</td>\n",
       "      <td>0.752517</td>\n",
       "      <td>1.0</td>\n",
       "      <td>1</td>\n",
       "    </tr>\n",
       "    <tr>\n",
       "      <th>2</th>\n",
       "      <td>1.0</td>\n",
       "      <td>0.731089</td>\n",
       "      <td>0.812478</td>\n",
       "      <td>0.575066</td>\n",
       "      <td>0.663977</td>\n",
       "      <td>0.537080</td>\n",
       "      <td>0.485752</td>\n",
       "      <td>0.470103</td>\n",
       "      <td>0.765979</td>\n",
       "      <td>0.296577</td>\n",
       "      <td>...</td>\n",
       "      <td>0.384354</td>\n",
       "      <td>0.493423</td>\n",
       "      <td>0.561730</td>\n",
       "      <td>0.554131</td>\n",
       "      <td>0.607870</td>\n",
       "      <td>0.503128</td>\n",
       "      <td>0.616275</td>\n",
       "      <td>0.595069</td>\n",
       "      <td>1.0</td>\n",
       "      <td>0</td>\n",
       "    </tr>\n",
       "    <tr>\n",
       "      <th>3</th>\n",
       "      <td>1.0</td>\n",
       "      <td>0.722258</td>\n",
       "      <td>0.615912</td>\n",
       "      <td>0.248687</td>\n",
       "      <td>0.409779</td>\n",
       "      <td>0.371355</td>\n",
       "      <td>0.479803</td>\n",
       "      <td>0.435300</td>\n",
       "      <td>0.639620</td>\n",
       "      <td>0.537330</td>\n",
       "      <td>...</td>\n",
       "      <td>0.423556</td>\n",
       "      <td>0.237408</td>\n",
       "      <td>0.344066</td>\n",
       "      <td>0.345097</td>\n",
       "      <td>0.426821</td>\n",
       "      <td>0.698729</td>\n",
       "      <td>0.496246</td>\n",
       "      <td>0.609792</td>\n",
       "      <td>1.0</td>\n",
       "      <td>0</td>\n",
       "    </tr>\n",
       "    <tr>\n",
       "      <th>4</th>\n",
       "      <td>1.0</td>\n",
       "      <td>0.933989</td>\n",
       "      <td>0.756859</td>\n",
       "      <td>0.377028</td>\n",
       "      <td>0.650408</td>\n",
       "      <td>0.362906</td>\n",
       "      <td>0.060021</td>\n",
       "      <td>0.488642</td>\n",
       "      <td>0.751632</td>\n",
       "      <td>0.459886</td>\n",
       "      <td>...</td>\n",
       "      <td>0.751920</td>\n",
       "      <td>0.704984</td>\n",
       "      <td>0.844986</td>\n",
       "      <td>0.441133</td>\n",
       "      <td>0.733185</td>\n",
       "      <td>0.465063</td>\n",
       "      <td>0.652863</td>\n",
       "      <td>0.901474</td>\n",
       "      <td>1.0</td>\n",
       "      <td>1</td>\n",
       "    </tr>\n",
       "  </tbody>\n",
       "</table>\n",
       "<p>5 rows × 1522 columns</p>\n",
       "</div>"
      ],
      "text/plain": [
       "     0         1         2         3         4         5         6         7  \\\n",
       "0  1.0  0.831051  0.641890 -0.032333  0.419112 -0.073279  0.604400 -0.170635   \n",
       "1  1.0  0.896050  0.616863  0.453676  0.543155  0.368622  0.341350  0.478277   \n",
       "2  1.0  0.731089  0.812478  0.575066  0.663977  0.537080  0.485752  0.470103   \n",
       "3  1.0  0.722258  0.615912  0.248687  0.409779  0.371355  0.479803  0.435300   \n",
       "4  1.0  0.933989  0.756859  0.377028  0.650408  0.362906  0.060021  0.488642   \n",
       "\n",
       "          8         9  ...      1512      1513      1514      1515      1516  \\\n",
       "0  0.866467 -0.296679  ... -0.030051  0.480397  0.540591  0.473869  0.326452   \n",
       "1  0.816250  0.461366  ...  0.273136  0.200162  0.564143  0.485326  0.542021   \n",
       "2  0.765979  0.296577  ...  0.384354  0.493423  0.561730  0.554131  0.607870   \n",
       "3  0.639620  0.537330  ...  0.423556  0.237408  0.344066  0.345097  0.426821   \n",
       "4  0.751632  0.459886  ...  0.751920  0.704984  0.844986  0.441133  0.733185   \n",
       "\n",
       "       1517      1518      1519  1520  Label  \n",
       "0  0.447993  0.339875  0.707758   1.0      1  \n",
       "1  0.535232  0.581298  0.752517   1.0      1  \n",
       "2  0.503128  0.616275  0.595069   1.0      0  \n",
       "3  0.698729  0.496246  0.609792   1.0      0  \n",
       "4  0.465063  0.652863  0.901474   1.0      1  \n",
       "\n",
       "[5 rows x 1522 columns]"
      ]
     },
     "execution_count": 128,
     "metadata": {},
     "output_type": "execute_result"
    }
   ],
   "source": [
    "test_df = pd.DataFrame(test_array)\n",
    "test_df['Label'] = y_test\n",
    "test_df.head()"
   ]
  },
  {
   "cell_type": "markdown",
   "id": "aeee5838",
   "metadata": {},
   "source": [
    "**Part Two:** Simpler methods"
   ]
  },
  {
   "cell_type": "markdown",
   "id": "5e3edd93",
   "metadata": {},
   "source": [
    "Pre-built Multilayer Perceptron Network"
   ]
  },
  {
   "cell_type": "code",
   "execution_count": 88,
   "id": "0248e4f4",
   "metadata": {},
   "outputs": [
    {
     "name": "stdout",
     "output_type": "stream",
     "text": [
      "MLP Testing Set Score:\n",
      "76.19047619047619\n"
     ]
    }
   ],
   "source": [
    "nnet = MLPClassifier(hidden_layer_sizes=(10), max_iter= 1000)  \n",
    "nnet.fit(train_array, y_train)\n",
    "predictions = nnet.predict(test_array)\n",
    "print(\"MLP Testing Set Score:\")\n",
    "print(accuracy_score(y_test, predictions)*100)"
   ]
  },
  {
   "cell_type": "markdown",
   "id": "476ca94d",
   "metadata": {},
   "source": [
    "Logistic Regression"
   ]
  },
  {
   "cell_type": "code",
   "execution_count": 97,
   "id": "06ba0a89",
   "metadata": {},
   "outputs": [
    {
     "name": "stdout",
     "output_type": "stream",
     "text": [
      "0.8095238095238095\n"
     ]
    },
    {
     "name": "stderr",
     "output_type": "stream",
     "text": [
      "C:\\Users\\mayap\\Anaconda3\\lib\\site-packages\\sklearn\\linear_model\\_logistic.py:763: ConvergenceWarning: lbfgs failed to converge (status=1):\n",
      "STOP: TOTAL NO. of ITERATIONS REACHED LIMIT.\n",
      "\n",
      "Increase the number of iterations (max_iter) or scale the data as shown in:\n",
      "    https://scikit-learn.org/stable/modules/preprocessing.html\n",
      "Please also refer to the documentation for alternative solver options:\n",
      "    https://scikit-learn.org/stable/modules/linear_model.html#logistic-regression\n",
      "  n_iter_i = _check_optimize_result(\n"
     ]
    }
   ],
   "source": [
    "from sklearn import linear_model\n",
    "from sklearn.metrics import accuracy_score\n",
    "x_train = train_df.loc[:, train_df.columns != 'Label']\n",
    "y_train = train_df['Label']\n",
    "class_rm = linear_model.LogisticRegression()\n",
    "class_rm.fit(x_train,y_train)\n",
    "x_test = test_df.loc[:, test_df.columns != 'Label']\n",
    "y_test = test_df['Label'].values.squeeze() # what does squeeze mean\n",
    "y_pred = class_rm.predict(x_test)\n",
    "y_pred = y_pred.squeeze()\n",
    "accuracy = accuracy_score(y_test, y_pred)\n",
    "print(accuracy)"
   ]
  },
  {
   "cell_type": "markdown",
   "id": "8a5fa38f",
   "metadata": {},
   "source": [
    "Bagging Method (my lucky charm)"
   ]
  },
  {
   "cell_type": "code",
   "execution_count": 104,
   "id": "84f7dbe6",
   "metadata": {},
   "outputs": [
    {
     "name": "stderr",
     "output_type": "stream",
     "text": [
      "C:\\Users\\mayap\\Anaconda3\\lib\\site-packages\\sklearn\\utils\\validation.py:70: FutureWarning: Pass shuffle=True, random_state=1 as keyword args. From version 1.0 (renaming of 0.25) passing these as positional arguments will result in an error\n",
      "  warnings.warn(f\"Pass {args_msg} as keyword args. From version \"\n"
     ]
    }
   ],
   "source": [
    "df = pd.concat([train_df,test_df])\n",
    "from sklearn.model_selection import KFold\n",
    "kfold = KFold(3, True, 1)"
   ]
  },
  {
   "cell_type": "code",
   "execution_count": 114,
   "id": "c16dc890",
   "metadata": {},
   "outputs": [
    {
     "name": "stdout",
     "output_type": "stream",
     "text": [
      "Our accuracy scores:\n",
      " 0.8095238095238095\n"
     ]
    }
   ],
   "source": [
    "from sklearn.ensemble import BaggingClassifier\n",
    "from sklearn.svm import SVC\n",
    "bagging = BaggingClassifier(base_estimator=SVC(), n_estimators=10, random_state=0)\n",
    "x_train = train_df.loc[:, train_df.columns != 'Label']\n",
    "y_train = train_df['Label']\n",
    "x_test = test_df.loc[:, test_df.columns != 'Label']\n",
    "y_test = test_df['Label'].values.squeeze()\n",
    "bagging.fit(x_train,y_train)\n",
    "pred_values = bagging.predict(x_test) \n",
    "acc = accuracy_score(y_test , y_pred)\n",
    "print(\"Our accuracy scores:\\n\",acc)"
   ]
  },
  {
   "cell_type": "code",
   "execution_count": 110,
   "id": "a1d0d522",
   "metadata": {},
   "outputs": [
    {
     "name": "stdout",
     "output_type": "stream",
     "text": [
      "0.8095238095238095\n"
     ]
    }
   ],
   "source": [
    "from sklearn import svm\n",
    "clf = svm.SVC()\n",
    "clf.fit(x_train,y_train)\n",
    "clfp = clf.predict(x_test)\n",
    "print(accuracy_score(y_test,y_pred))"
   ]
  },
  {
   "cell_type": "markdown",
   "id": "277dde04",
   "metadata": {},
   "source": [
    "Naive - Bayes classifier"
   ]
  },
  {
   "cell_type": "code",
   "execution_count": 122,
   "id": "79d37a8c",
   "metadata": {},
   "outputs": [
    {
     "name": "stdout",
     "output_type": "stream",
     "text": [
      "0.6190476190476191\n"
     ]
    }
   ],
   "source": [
    "X = df.loc[:, df.columns != 'Label']\n",
    "y = df['Label']\n",
    "from sklearn.model_selection import train_test_split\n",
    "X_train, X_test, Y_train, Y_test = train_test_split(X, y, test_size = 0.20, random_state = 0)\n",
    "from sklearn.preprocessing import StandardScaler\n",
    "sc = StandardScaler()\n",
    "x_train = sc.fit_transform(X_train)\n",
    "x_train = sc.transform(X_test)\n",
    "from sklearn.naive_bayes import GaussianNB\n",
    "classifier = GaussianNB()\n",
    "classifier.fit(X_train, Y_train)\n",
    "Y_pred  =  classifier.predict(X_test)\n",
    "print(accuracy_score(Y_test,Y_pred))"
   ]
  }
 ],
 "metadata": {
  "kernelspec": {
   "display_name": "Python 3",
   "language": "python",
   "name": "python3"
  },
  "language_info": {
   "codemirror_mode": {
    "name": "ipython",
    "version": 3
   },
   "file_extension": ".py",
   "mimetype": "text/x-python",
   "name": "python",
   "nbconvert_exporter": "python",
   "pygments_lexer": "ipython3",
   "version": "3.8.8"
  }
 },
 "nbformat": 4,
 "nbformat_minor": 5
}
